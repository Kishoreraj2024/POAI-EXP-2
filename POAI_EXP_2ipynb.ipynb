{
  "nbformat": 4,
  "nbformat_minor": 0,
  "metadata": {
    "colab": {
      "provenance": [],
      "authorship_tag": "ABX9TyNQAuDwJk57uHVtH8T0q2FF",
      "include_colab_link": true
    },
    "kernelspec": {
      "name": "python3",
      "display_name": "Python 3"
    },
    "language_info": {
      "name": "python"
    }
  },
  "cells": [
    {
      "cell_type": "markdown",
      "metadata": {
        "id": "view-in-github",
        "colab_type": "text"
      },
      "source": [
        "<a href=\"https://colab.research.google.com/github/Kishoreraj2024/POAI-EXP-2/blob/main/POAI_EXP_2ipynb.ipynb\" target=\"_parent\"><img src=\"https://colab.research.google.com/assets/colab-badge.svg\" alt=\"Open In Colab\"/></a>"
      ]
    },
    {
      "cell_type": "code",
      "source": [
        "# Sample warehouse graph as an adjacency list\n",
        "warehouse_graph = {\n",
        "    'A': ['B', 'C'],\n",
        "    'B': ['D', 'E'],\n",
        "    'C': ['F'],\n",
        "    'D': [],\n",
        "    'E': ['F'],\n",
        "    'F': []\n",
        "}\n",
        "\n",
        "# Function to perform DFS\n",
        "def dfs(graph, start, goal, visited=None, path=None):\n",
        "    if visited is None:\n",
        "        visited = set()\n",
        "    if path is None:\n",
        "        path = []\n",
        "\n",
        "    # Mark current node as visited and add to path\n",
        "    visited.add(start)\n",
        "    path.append(start)\n",
        "\n",
        "    # If goal is found, return the path\n",
        "    if start == goal:\n",
        "        return path\n",
        "\n",
        "    # Explore neighbors\n",
        "    for neighbor in graph[start]:\n",
        "        if neighbor not in visited:\n",
        "            result = dfs(graph, neighbor, goal, visited, path[:])  # Use path[:] to copy path\n",
        "            if result:  # Stop if a path is found\n",
        "                return result\n",
        "\n",
        "    return None  # No path found\n",
        "\n",
        "# Example usage\n",
        "start_node = 'A'\n",
        "goal_node = 'F'\n",
        "path_found = dfs(warehouse_graph, start_node, goal_node)\n",
        "print(f\"DFS Path from {start_node} to {goal_node}: {path_found}\")\n"
      ],
      "metadata": {
        "colab": {
          "base_uri": "https://localhost:8080/"
        },
        "id": "pF7N3JOL5B43",
        "outputId": "d65889ed-0a77-4c16-8ca9-20864a6f32f7"
      },
      "execution_count": 2,
      "outputs": [
        {
          "output_type": "stream",
          "name": "stdout",
          "text": [
            "DFS Path from A to F: ['A', 'B', 'E', 'F']\n"
          ]
        }
      ]
    }
  ]
}